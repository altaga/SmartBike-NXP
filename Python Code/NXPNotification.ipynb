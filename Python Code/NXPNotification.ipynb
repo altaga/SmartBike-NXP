{
 "cells": [
  {
   "cell_type": "code",
   "execution_count": null,
   "metadata": {},
   "outputs": [],
   "source": [
    "# Run this code first to install the mqtt and pushetta libraries.\n",
    "!pip install paho-mqtt && pip install pushetta"
   ]
  },
  {
   "cell_type": "code",
   "execution_count": null,
   "metadata": {},
   "outputs": [],
   "source": [
    "# Leave this code running to leave pushetta notifications active.\n",
    "\n",
    "import paho.mqtt.client as mqtt \n",
    "import time\n",
    "from pushetta import Pushetta\n",
    "\n",
    "# API Key You get after signup on www.pushetta.com\n",
    "API_KEY=\"be00f1220cbeff4acbf2d33baea2cff14664bc13\"\n",
    "p=Pushetta(API_KEY)\n",
    "\n",
    "def on_message(mosq, obj, msg):\n",
    "    p.pushMessage(\"NXP\",\"Victor Needs Help!: \" \"https://maps.google.com/?q=\" + str(msg.payload.decode())[10:-21]+\",\"+str(msg.payload.decode())[-8:])\n",
    "\n",
    "\n",
    "client = mqtt.Client()\n",
    "client.on_message = on_message\n",
    "client.username_pw_set(\"ijplykav\", \"tLPKg_Y3FDy_\")\n",
    "client.connect('m12.cloudmqtt.com', 13853, 60)\n",
    "client.loop_start()\n",
    "client.subscribe (\"/NXPloc\" ,0 )\n",
    "\n",
    "try:\n",
    "    while True:\n",
    "        time.sleep(1)\n",
    " \n",
    "except KeyboardInterrupt:\n",
    "    print (\"exiting\")\n",
    "    client.disconnect()\n",
    "    client.loop_stop()\n"
   ]
  }
 ],
 "metadata": {
  "kernelspec": {
   "display_name": "Python 3.5",
   "language": "python",
   "name": "python3"
  },
  "language_info": {
   "codemirror_mode": {
    "name": "ipython",
    "version": 3
   },
   "file_extension": ".py",
   "mimetype": "text/x-python",
   "name": "python",
   "nbconvert_exporter": "python",
   "pygments_lexer": "ipython3",
   "version": "3.5.5"
  }
 },
 "nbformat": 4,
 "nbformat_minor": 1
}
